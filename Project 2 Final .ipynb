{
 "cells": [
  {
   "cell_type": "markdown",
   "id": "c826dbda",
   "metadata": {},
   "source": [
    "# Project 2: Taha Al Yacoby\n"
   ]
  },
  {
   "cell_type": "markdown",
   "id": "ed1fab7d",
   "metadata": {},
   "source": [
    "Scientific Question:\n",
    "What are the genetic differences that are prominent between the variants of COVID which affect transmetability and makes it more infectious in the new delta variant in comparison to the orignal SARS-CoV-2 varient?\n",
    "\n",
    "- The COVID Pandemic has been going on for a long time now, and its safe to say that it changed every aspcet of our day to day lives. The world been challenged and put under the mercy of the SARS-CoV-2 infection. It has infected over 200 million people worldwide and killed over 5 million. The danger of the virus is how infectious it is and how deadly it is to certain groups who get infected. The virus keeps advancing due to it evolving and mutating/ The original varient was deady as is, but with the Delta variant coming out, it made the virus even more formideable. The Delta varient is even more infectious and deadly. (Suratekar et al). \n",
    "\n",
    "I would be specifically looking at the what causes the infection and what makes the virus more infectous. This lead me to consider the Spike proetins because they are the first line of interaction between the virus and the host cell.  "
   ]
  },
  {
   "cell_type": "markdown",
   "id": "a88c7ff5",
   "metadata": {},
   "source": [
    "Scientific Hypothesis: \n",
    "If the Spike protein sequences are different between the Delta and the Original SARS-CoV-2 variants, then the increased danger and infection rates are attributed to how the virus binds to host cells due to the S-proteins being different. \n",
    "\n",
    "- The importance of S-proteins and their role stems from how they are used to infect other cells. SARS-CoV-2 infections are almost entirely dependent on the viral spike protein binding to ACE2 receptors. This is important because ACE2 receptor cleavage by a type 2 transmembrane serine protease is required to enter the cell and activate the viral spike protein. (Kumar et al)\n",
    "\n",
    "- The protein sequence data was sourced from NCBI Nucleotide database. I found the sequence for the S-proteins of both the Delta and the Original COVID-19 variants on their specific SARS-CoV-2 tab. The 3D structure of the proteins was found on the PDB database and downloaded in order to compare the structural differences. \n",
    "\n",
    "- The sequences were then subjected to a Multiple Sequence allignment and a BLAST search and downloaded as fasta files. Homology Modeling was used to create a 3D structure comparing the proteins together to see the physical differences and what they entail. To analyze the data, 3D Protein Measurements were used to compare and analyze the shape differences of the S-proteins. A heatplot was used to show how different the sequences were interms of one another. \n",
    "\n",
    "To answer this scientific question and test my hypothesis, I searched for S-proteins and their functions on the NCBI database and I then downloaded a 3D SDF file from PDB and that is the data I imported here.\n"
   ]
  },
  {
   "cell_type": "markdown",
   "id": "32eba2a2",
   "metadata": {},
   "source": [
    "Part 1: Load the Packages \n",
    "\n",
    "I will use Pandas, Biopython, Numpy, fastaparser, nglview, and Seaborn as the tools to manipulate and visulatize my data sets.\n",
    "\n",
    "Pandas: A python data manipulation tool. This package is used to analyze the data and works very well with other packages to deliver a complete product. It is mainly a data wrangling package. Pandas is used for tasks that are repetitive and would be calassified as machine learning bavior. One of the best packages available to clean up data before analysis. https://pandas.pydata.org/\n",
    "\n",
    "Biopython: A python data package that has multiple tools. This pacakge is used for various purposes, it is mainly a method that spawns tools. This package is easily one of the most versatile packages available . The package caters to the specific needs of the programmer and can extract specific information from data sets without them being preloaded in. The majority of people use the package to allign sequences of proteins and genes. https://biopython.org/\n",
    "\n",
    "\n",
    "Numpy: A python library that is used to perfom complex and intensive calculations. This package is used with multiple types of arrays. The way that it functions is sperated into two parts, either a computational data input or data analysis input. This library is the industry standard for any type of array computing done. It is a powerful tool that can help with all the necessary calculations. https://numpy.org/ \n",
    "\n",
    "Seaborn: A python data package that has multiple tools. This pacakge is a visualization library based on matplotlib. It provides means for drawing statistical graphics. This package also works with Pandas in order to perform the functions required.  https://seaborn.pydata.org/\n",
    "\n",
    "fastaparser: A python data package that is used to represent sequences in different formats including fasta (as the name suggests). The package is able to parse the given files to extract the sequence. Another capability of the program is the ability to write and edit these sequences to another file. https://fastaparser.readthedocs.io/en/latest/\n",
    "\n",
    "nglview: A python add on that works to visualize and view molecules and structures. This package has the ability to create interactive simulations with the inputed molecules. http://nglviewer.org/nglview/latest/api.html"
   ]
  },
  {
   "cell_type": "code",
   "execution_count": 11,
   "id": "b4e93895",
   "metadata": {},
   "outputs": [
    {
     "ename": "ModellerError",
     "evalue": "check_lice_E> Invalid license key: XXXX\nGo to https://salilab.org/modeller/ to get a license key,\nand then set the 'license' variable to it in the file\nC:/Users/tapeya/anaconda3\\Library\\modeller/modlib/modeller/config.py\n",
     "output_type": "error",
     "traceback": [
      "\u001b[1;31m---------------------------------------------------------------------------\u001b[0m",
      "\u001b[1;31mModellerError\u001b[0m                             Traceback (most recent call last)",
      "\u001b[1;32m~\\AppData\\Local\\Temp/ipykernel_16972/31830212.py\u001b[0m in \u001b[0;36m<module>\u001b[1;34m\u001b[0m\n\u001b[0;32m      9\u001b[0m \u001b[1;32mfrom\u001b[0m \u001b[0mBio\u001b[0m\u001b[1;33m.\u001b[0m\u001b[0mPDB\u001b[0m \u001b[1;32mimport\u001b[0m \u001b[1;33m*\u001b[0m\u001b[1;33m\u001b[0m\u001b[1;33m\u001b[0m\u001b[0m\n\u001b[0;32m     10\u001b[0m \u001b[1;32mimport\u001b[0m \u001b[0mnglview\u001b[0m \u001b[1;32mas\u001b[0m \u001b[0mnv\u001b[0m\u001b[1;33m\u001b[0m\u001b[1;33m\u001b[0m\u001b[0m\n\u001b[1;32m---> 11\u001b[1;33m \u001b[1;32mfrom\u001b[0m \u001b[0mmodeller\u001b[0m \u001b[1;32mimport\u001b[0m \u001b[1;33m*\u001b[0m\u001b[1;33m\u001b[0m\u001b[1;33m\u001b[0m\u001b[0m\n\u001b[0m\u001b[0;32m     12\u001b[0m \u001b[1;32mimport\u001b[0m \u001b[0mmodeller\u001b[0m\u001b[1;33m\u001b[0m\u001b[1;33m\u001b[0m\u001b[0m\n",
      "\u001b[1;32m~\\anaconda3\\Library\\modeller\\modlib\\modeller\\__init__.py\u001b[0m in \u001b[0;36m<module>\u001b[1;34m\u001b[0m\n\u001b[0;32m     35\u001b[0m     \u001b[0m_modeller\u001b[0m\u001b[1;33m.\u001b[0m\u001b[0mmod_install_dir_set\u001b[0m\u001b[1;33m(\u001b[0m\u001b[0mconfig\u001b[0m\u001b[1;33m.\u001b[0m\u001b[0minstall_dir\u001b[0m\u001b[1;33m)\u001b[0m\u001b[1;33m\u001b[0m\u001b[1;33m\u001b[0m\u001b[0m\n\u001b[0;32m     36\u001b[0m \u001b[1;33m\u001b[0m\u001b[0m\n\u001b[1;32m---> 37\u001b[1;33m \u001b[0m_modeller\u001b[0m\u001b[1;33m.\u001b[0m\u001b[0mmod_start\u001b[0m\u001b[1;33m(\u001b[0m\u001b[1;33m)\u001b[0m\u001b[1;33m\u001b[0m\u001b[1;33m\u001b[0m\u001b[0m\n\u001b[0m\u001b[0;32m     38\u001b[0m \u001b[0m__version__\u001b[0m \u001b[1;33m=\u001b[0m \u001b[0m_modeller\u001b[0m\u001b[1;33m.\u001b[0m\u001b[0mmod_short_version_get\u001b[0m\u001b[1;33m(\u001b[0m\u001b[1;33m)\u001b[0m\u001b[1;33m\u001b[0m\u001b[1;33m\u001b[0m\u001b[0m\n\u001b[0;32m     39\u001b[0m \u001b[1;33m\u001b[0m\u001b[0m\n",
      "\u001b[1;31mModellerError\u001b[0m: check_lice_E> Invalid license key: XXXX\nGo to https://salilab.org/modeller/ to get a license key,\nand then set the 'license' variable to it in the file\nC:/Users/tapeya/anaconda3\\Library\\modeller/modlib/modeller/config.py\n"
     ]
    }
   ],
   "source": [
    "#Importing packages\n",
    "from Bio import Align\n",
    "from Bio import SeqIO\n",
    "from Bio.Seq import Seq\n",
    "import seaborn as sns\n",
    "import pandas as pd\n",
    "import numpy as np\n",
    "import fastaparser \n",
    "from Bio.PDB import *\n",
    "import nglview as nv\n",
    "from modeller import *\n",
    "import modeller"
   ]
  },
  {
   "cell_type": "markdown",
   "id": "5121b4bd",
   "metadata": {},
   "source": [
    "# Multiple Sequence Alignment\n",
    "\n",
    "The data loaded was the protein sequence of the S-protein found in the original SARS-CoV-2 starin and the Delta strain. The data was uploaded from the NCBI database https://www.ncbi.nlm.nih.gov/protein/ The data was downloaded as a fasta file and subjected to the multiple sequence alignmnt method. This method was used to allign the sequences and spot the differneces between the two protein sequences. "
   ]
  },
  {
   "cell_type": "code",
   "execution_count": 38,
   "id": "b78a7bfe",
   "metadata": {
    "scrolled": true
   },
   "outputs": [
    {
     "name": "stdout",
     "output_type": "stream",
     "text": [
      "['MFVFLVLLPLVSSQCVNLTTRTQLPPAYTNSFTRGVYYPDKVFRSSVLHSTQDLFLPFFSNVTWFHAIHVSGTNGTKRFDNPVLPFNDGVYFASTEKSNIIRGWIFGTTLDSKTQSLLIVNNATNVVIKVCEFQFCNDPFLGVYYHKNNKSWMESEFRVYSSANNCTFEYVSQPFLMDLEGKQGNFKNLREFVFKNIDGYFKIYSKHTPINLVRDLPQGFSALEPLVDLPIGINITRFQTLLALHRSYLTPGDSSSGWTAGAAAYYVGYLQPRTFLLKYNENGTITDAVDCALDPLSETKCTLKSFTVEKGIYQTSNFRVQPTESIVRFPNITNLCPFGEVFNATRFASVYAWNRKRISNCVADYSVLYNSASFSTFKCYGVSPTKLNDLCFTNVYADSFVIRGDEVRQIAPGQTGKIADYNYKLPDDFTGCVIAWNSNNLDSKVGGNYNYLYRLFRKSNLKPFERDISTEIYQAGSTPCNGVEGFNCYFPLQSYGFQPTNGVGYQPYRVVVLSFELLHAPATVCGPKKSTNLVKNKCVNFNFNGLTGTGVLTESNKKFLPFQQFGRDIADTTDAVRDPQTLEILDITPCSFGGVSVITPGTNTSNQVAVLYQDVNCTEVPVAIHADQLTPTWRVYSTGSNVFQTRAGCLIGAEHVNNSYECDIPIGAGICASYQTQTNSPRRARSVASQSIIAYTMSLGAENSVAYSNNSIAIPTNFTISVTTEILPVSMTKTSVDCTMYICGDSTECSNLLLQYGSFCTQLNRALTGIAVEQDKNTQEVFAQVKQIYKTPPIKDFGGFNFSQILPDPSKPSKRSFIEDLLFNKVTLADAGFIKQYGDCLGDIAARDLICAQKFNGLTVLPPLLTDEMIAQYTSALLAGTITSGWTFGAGAALQIPFAMQMAYRFNGIGVTQNVLYENQKLIANQFNSAIGKIQDSLSSTASALGKLQDVVNQNAQALNTLVKQLSSNFGAISSVLNDILSRLDKVEAEVQIDRLITGRLQSLQTYVTQQLIRAAEIRASANLAATKMSECVLGQSKRVDFCGKGYHLMSFPQSAPHGVVFLHVTYVPAQEKNFTTAPAICHDGKAHFPREGVFVSNGTHWFVTQRNFYEPQIITTDNTFVSGNCDVVIGIVNNTVYDPLQPELDSFKEELDKYFKNHTSPDVDLGDISGINASVVNIQKEIDRLNEVAKNLNESLIDLQELGKYEQYIKWPWYIWLGFIAGLIAIVMVTIMLCCMTSCCSCLKGCCSCGSCCKFDEDDSEPVLKGVKLHYT']\n"
     ]
    }
   ],
   "source": [
    "seqList=[]\n",
    "with open(\"original seq.fasta\") as h1n1_file:\n",
    "    parser = fastaparser.Reader(h1n1_file)\n",
    "    for seq in parser: #fastaSequence object\n",
    "        #print('ID:', seq.id) \n",
    "        #print('Description:', seq.description) \n",
    "        #print('Sequence:', seq.sequence_as_string())\n",
    "        seqList.append(seq.sequence_as_string()) #store each sequence in fasta file into list\n",
    "        #print()\n",
    "print(seqList)\n",
    "\n"
   ]
  },
  {
   "cell_type": "code",
   "execution_count": 39,
   "id": "ed83c9f1",
   "metadata": {},
   "outputs": [
    {
     "name": "stdout",
     "output_type": "stream",
     "text": [
      "MFVFLVLLPLVSSQCVNLRTRTQLPPAYTNSFTRGVYYPDKVFRSSVLHSTQDLFLPFFSNVTWFHAIHVSGTNGTKRFDNPVLPFNDGVYFASTEKSNIIRGWIFGTTLDSKTQSLLIVNNATNVVIKVCEFQFCNDPFLDVYYHKNNKSWMESGVYSSANNCTFEYVSQPFLMDLEGKQGNFKNLREFVFKNIDGYFKIYSKHTPINLVRDLPQGFSALEPLVDLPIGINITRFQTLLALHRSYLTPGDSSSGWTAGAAAYYVGYLQPRTFLLKYNENGTITDAVDCALDPLSETKCTLKSFTVEKGIYQTSNFRVQPTESIVRFPNITNLCPFGEVFNATRFASVYAWNRKRISNCVADYSVLYNSASFSTFKCYGVSPTKLNDLCFTNVYADSFVIRGDEVRQIAPGQTGKIADYNYKLPDDFTGCVIAWNSNNLDSKVGGNYNYRYRLFRKSNLKPFERDISTEIYQAGSKPCNGVEGFNCYFPLQSYGFQPTNGVGYQPYRVVVLSFELLHAPATVCGPKKSTNLVKNKCVNFNFNGLTGTGVLTESNKKFLPFQQFGRDIADTTDAVRDPQTLEILDITPCSFGGVSVITPGTNTSNQVAVLYQGVNCTEVPVAIHADQLTPTWRVYSTGSNVFQTRAGCLIGAEHVNNSYECDIPIGAGICASYQTQTNSRRRARSVASQSIIAYTMSLGAENSVAYSNNSIAIPTNFTISVTTEILPVSMTKTSVDCTMYICGDSTECSNLLLQYGSFCTQLNRALTGIAVEQDKNTQEVFAQVKQIYKTPPIKDFGGFNFSQILPDPSKPSKRSFIEDLLFNKVTLADAGFIKQYGDCLGDIAARDLICAQKFNGLTVLPPLLTDEMIAQYTSALLAGTITSGWTFGAGAALQIPFAMQMAYRFNGIGVTQNVLYENQKLIANQFNSAIGKIQDSLSSTASALGKLQNVVNQNAQALNTLVKQLSSNFGAISSVLNDILSRLDKVEAEVQIDRLITGRLQSLQTYVTQQLIRAAEIRASANLAATKMSECVLGQSKRVDFCGKGYHLMSFPQSAPHGVVFLHVTYVPAQEKNFTTAPAICHDGKAHFPREGVFVSNGTHWFVTQRNFYEPQIITTDNTFVSGNCDVVIGIVNNTVYDPLQPELDSFKEELDKYFKNHTSPDVDLGDISGINASVVNIQKEIDRLNEVAKNLNESLIDLQELGKYEQYIKWPWYIWLGFIAGLIAIVMVTIMLCCMTSCCSCLKGCCSCGSCCKFDEDDSEPVLKGVKLHYT\n"
     ]
    }
   ],
   "source": [
    "seqdeltaList=\"\"\n",
    "with open(\"delta seq.fasta\") as h1n1_file:\n",
    "    parser = fastaparser.Reader(h1n1_file)\n",
    "    for seq in parser: #fastaSequence object\n",
    "        #test\n",
    "        #print('ID:', seq.id) #print id of each sequence\n",
    "        #print('Description:', seq.description) #print description of each sequence\n",
    "        #print('Sequence:', seq.sequence_as_string())\n",
    "        seqdeltaList=(seq.sequence_as_string()) #store each sequence in fasta file into list\n",
    "        #print()\n",
    "print(seqdeltaList)\n",
    "\n"
   ]
  },
  {
   "cell_type": "code",
   "execution_count": 42,
   "id": "cea2e880",
   "metadata": {},
   "outputs": [
    {
     "name": "stdout",
     "output_type": "stream",
     "text": [
      "Alignment length 1271\n",
      "MFVFLVLLPLVSSQCVNLRTRTQLPPAYTNSFTRGVYYPDKVFRSSVLHSTQDLFLPFFSNVTWFHAIHVSGTNGTKRFDNPVLPFNDGVYFASTEKSNIIRGWIFGTTLDSKTQSLLIVNNATNVVIKVCEFQFCNDPFLDVYYHKNNKSWMESGVYSSANNCTFEYVSQPFLMDLEGKQGNFKNLREFVFKNIDGYFKIYSKHTPINLVRDLPQGFSALEPLVDLPIGINITRFQTLLALHRSYLTPGDSSSGWTAGAAAYYVGYLQPRTFLLKYNENGTITDAVDCALDPLSETKCTLKSFTVEKGIYQTSNFRVQPTESIVRFPNITNLCPFGEVFNATRFASVYAWNRKRISNCVADYSVLYNSASFSTFKCYGVSPTKLNDLCFTNVYADSFVIRGDEVRQIAPGQTGKIADYNYKLPDDFTGCVIAWNSNNLDSKVGGNYNYRYRLFRKSNLKPFERDISTEIYQAGSKPCNGVEGFNCYFPLQSYGFQPTNGVGYQPYRVVVLSFELLHAPATVCGPKKSTNLVKNKCVNFNFNGLTGTGVLTESNKKFLPFQQFGRDIADTTDAVRDPQTLEILDITPCSFGGVSVITPGTNTSNQVAVLYQGVNCTEVPVAIHADQLTPTWRVYSTGSNVFQTRAGCLIGAEHVNNSYECDIPIGAGICASYQTQTNSRRRARSVASQSIIAYTMSLGAENSVAYSNNSIAIPTNFTISVTTEILPVSMTKTSVDCTMYICGDSTECSNLLLQYGSFCTQLNRALTGIAVEQDKNTQEVFAQVKQIYKTPPIKDFGGFNFSQILPDPSKPSKRSFIEDLLFNKVTLADAGFIKQYGDCLGDIAARDLICAQKFNGLTVLPPLLTDEMIAQYTSALLAGTITSGWTFGAGAALQIPFAMQMAYRFNGIGVTQNVLYENQKLIANQFNSAIGKIQDSLSSTASALGKLQNVVNQNAQALNTLVKQLSSNFGAISSVLNDILSRLDKVEAEVQIDRLITGRLQSLQTYVTQQLIRAAEIRASANLAATKMSECVLGQSKRVDFCGKGYHLMSFPQSAPHGVVFLHVTYVPAQEKNFTTAPAICHDGKAHFPREGVFVSNGTHWFVTQRNFYEPQIITTDNTFVSGNCDVVIGIVNNTVYDPLQPELDSFKEELDKYFKNHTSPDVDLGDISGINASVVNIQKEIDRLNEVAKNLNESLIDLQELGKYEQYIKWPWYIWLGFIAGLIAIVMVTIMLCCMTSCCSCLKGCCSCGSCCKFDEDDSEPVLKGVKLHYT QWK65230.1\n"
     ]
    },
    {
     "name": "stderr",
     "output_type": "stream",
     "text": [
      "C:\\Users\\tapeya\\AppData\\Local\\Temp/ipykernel_23676/1064993067.py:2: ResourceWarning: unclosed file <_io.TextIOWrapper name='seq.fasta' mode='r' encoding='cp1252'>\n",
      "  alignment = AlignIO.read(open(\"seq.fasta\"), \"fasta\") #read in file, put in alignment variable\n",
      "ResourceWarning: Enable tracemalloc to get the object allocation traceback\n"
     ]
    }
   ],
   "source": [
    "from Bio import AlignIO #import AlignIO module\n",
    "alignment = AlignIO.read(open(\"seq.fasta\"), \"fasta\") #read in file, alignment variable\n",
    "print(\"Alignment length %i\" % alignment.get_alignment_length()) #print length of alignments\n",
    "for record in alignment: \n",
    "    print(record.seq + \" \" + record.id)\n"
   ]
  },
  {
   "cell_type": "code",
   "execution_count": null,
   "id": "307b9dfe",
   "metadata": {},
   "outputs": [],
   "source": [
    "#Code was not working and retried multiple times to allign my code. I am using a Windows operating program-\n",
    "#Which does not allow me to download BLAST on Anaconda. I resroted to doing a BLAST search online to get the Alignment scores-\n",
    "#for my sequences. These scores were as followed:-\n",
    "#Delta Variant Alligned to itself:6809 \n",
    "#Original Variant Alligned to itself:6834 \n",
    "#Both varients alligned against eachother:6761\n",
    "#I would be using these allignemnt scores for my heatmap. "
   ]
  },
  {
   "cell_type": "markdown",
   "id": "d1150346",
   "metadata": {},
   "source": [
    "# Homology Modeling \n",
    "\n",
    "The known proetin structures were loaded in as PDB files. These file contained the S-protein structures of both the original variant and the delta variant. THe results were obtained from the RCSB PDB database https://www.rcsb.org/. Homology modeling was used to construct the proteins using their amino acid sequenes. "
   ]
  },
  {
   "cell_type": "code",
   "execution_count": 56,
   "id": "1faa3769",
   "metadata": {},
   "outputs": [
    {
     "name": "stdout",
     "output_type": "stream",
     "text": [
      "Model of S-protein orignal structure\n",
      "Model of S-protein delta structure\n"
     ]
    },
    {
     "data": {
      "application/vnd.jupyter.widget-view+json": {
       "model_id": "61186368d5874a2b8966e80b2b1bc208",
       "version_major": 2,
       "version_minor": 0
      },
      "text/plain": [
       "NGLWidget()"
      ]
     },
     "metadata": {},
     "output_type": "display_data"
    }
   ],
   "source": [
    "parser = PDBParser()\n",
    "Sproteinorignalstructure= parser.get_structure(\"original2\", \"original2.pdb\") #load structures\n",
    "views1 = nv.show_biopython(Sproteinorignalstructure) #use nglview for 3d structure to output\n",
    "print(\"Model of S-protein orignal structure\")\n",
    "views1\n",
    "\n",
    "Sproteindeltastructure = parser.get_structure(\"delta2\", \"delta2.pdb\")\n",
    "views2 = nv.show_biopython(Sproteindeltastructure)\n",
    "print(\"Model of S-protein delta structure\")\n",
    "views2\n"
   ]
  },
  {
   "cell_type": "markdown",
   "id": "8867e905",
   "metadata": {},
   "source": [
    "# Heatmap \n",
    "\n",
    "The data used was supposed to obtained by aligning the sequences using multiple sequence alignment but I could not figure out how to get the code for alligning the sequences to work and kept getting an error. I used BLAST search website to allign the same protein sequences and found the alignment score for all the data that way. The scores collected from the data were plugged into a code for a heatmap. This was the first step to analyze the data. "
   ]
  },
  {
   "cell_type": "code",
   "execution_count": 62,
   "id": "67cb3aa6",
   "metadata": {},
   "outputs": [
    {
     "data": {
      "text/plain": [
       "Text(0.5, 1.0, 'S-proteins')"
      ]
     },
     "execution_count": 62,
     "metadata": {},
     "output_type": "execute_result"
    },
    {
     "data": {
      "image/png": "[encoded data removed]",
      "text/plain": [
       "<Figure size 432x288 with 3 Axes>"
      ]
     },
     "metadata": {
      "needs_background": "light"
     },
     "output_type": "display_data"
    }
   ],
   "source": [
    "#dataset containing the alignment scores from BLAST alignment\n",
    "alignment_scores=[[6809,6761],\n",
    "                 [6761,6834]]\n",
    "\n",
    "#matrix with the alignment scores and labels for the x-axis\n",
    "data_matrix=pd.DataFrame(alignment_scores,columns=[\"Delta\",\"Original\"])\n",
    "\n",
    "#heatplot title is S-proteins \n",
    "proteins=sns.heatmap(data_matrix)\n",
    "\n",
    "#defines the y-axis\n",
    "sns.heatmap(data_matrix,yticklabels=[\"Delta\",\"Original\"])\n",
    "proteins.set_title(\"S-proteins\")"
   ]
  },
  {
   "cell_type": "markdown",
   "id": "6348c53c",
   "metadata": {},
   "source": [
    "# 3D Protein \n",
    "\n",
    "Use the data generated from pdb file to allign the sequneces of the protein structurs. comparing their phycial shape to note what the possibilities that the shape might create in terms of the differnces in the infection and dealiness of each variant. 3"
   ]
  },
  {
   "cell_type": "code",
   "execution_count": 2,
   "id": "45997812",
   "metadata": {},
   "outputs": [
    {
     "ename": "NameError",
     "evalue": "name 'environ' is not defined",
     "output_type": "error",
     "traceback": [
      "\u001b[1;31m---------------------------------------------------------------------------\u001b[0m",
      "\u001b[1;31mNameError\u001b[0m                                 Traceback (most recent call last)",
      "\u001b[1;32m~\\AppData\\Local\\Temp/ipykernel_16972/1197152129.py\u001b[0m in \u001b[0;36m<module>\u001b[1;34m\u001b[0m\n\u001b[1;32m----> 1\u001b[1;33m \u001b[0menv\u001b[0m \u001b[1;33m=\u001b[0m \u001b[0menviron\u001b[0m\u001b[1;33m(\u001b[0m\u001b[1;33m)\u001b[0m\u001b[1;33m\u001b[0m\u001b[1;33m\u001b[0m\u001b[0m\n\u001b[0m\u001b[0;32m      2\u001b[0m \u001b[0maln\u001b[0m \u001b[1;33m=\u001b[0m \u001b[0malignment\u001b[0m\u001b[1;33m(\u001b[0m\u001b[0menv\u001b[0m\u001b[1;33m)\u001b[0m\u001b[1;33m\u001b[0m\u001b[1;33m\u001b[0m\u001b[0m\n\u001b[0;32m      3\u001b[0m \u001b[1;32mfor\u001b[0m\u001b[1;33m(\u001b[0m\u001b[0mpdb\u001b[0m\u001b[1;33m,\u001b[0m \u001b[0mchain\u001b[0m\u001b[1;33m)\u001b[0m \u001b[1;32min\u001b[0m \u001b[1;33m(\u001b[0m\u001b[1;33m(\u001b[0m\u001b[1;34m'original2'\u001b[0m\u001b[1;33m,\u001b[0m \u001b[1;34m'A'\u001b[0m\u001b[1;33m)\u001b[0m\u001b[1;33m,\u001b[0m\u001b[1;33m(\u001b[0m\u001b[1;34m'delta2'\u001b[0m\u001b[1;33m,\u001b[0m\u001b[1;34m'A'\u001b[0m\u001b[1;33m)\u001b[0m\u001b[1;33m)\u001b[0m\u001b[1;33m:\u001b[0m\u001b[1;33m\u001b[0m\u001b[1;33m\u001b[0m\u001b[0m\n\u001b[0;32m      4\u001b[0m     \u001b[0mm\u001b[0m \u001b[1;33m=\u001b[0m \u001b[0mmodel\u001b[0m\u001b[1;33m(\u001b[0m\u001b[0menv\u001b[0m\u001b[1;33m,\u001b[0m \u001b[0mfile\u001b[0m\u001b[1;33m=\u001b[0m\u001b[0mpdb\u001b[0m\u001b[1;33m,\u001b[0m \u001b[0mmodel_segment\u001b[0m\u001b[1;33m=\u001b[0m\u001b[1;33m(\u001b[0m\u001b[1;34m'FIRST:'\u001b[0m\u001b[1;33m+\u001b[0m\u001b[0mchain\u001b[0m\u001b[1;33m,\u001b[0m \u001b[1;34m'LAST:'\u001b[0m\u001b[1;33m+\u001b[0m\u001b[0mchain\u001b[0m\u001b[1;33m)\u001b[0m\u001b[1;33m)\u001b[0m\u001b[1;33m\u001b[0m\u001b[1;33m\u001b[0m\u001b[0m\n\u001b[0;32m      5\u001b[0m     \u001b[0maln\u001b[0m\u001b[1;33m.\u001b[0m\u001b[0mappend_model\u001b[0m\u001b[1;33m(\u001b[0m\u001b[0mm\u001b[0m\u001b[1;33m,\u001b[0m \u001b[0matom_files\u001b[0m\u001b[1;33m=\u001b[0m\u001b[0mpdb\u001b[0m\u001b[1;33m,\u001b[0m \u001b[0malign_codes\u001b[0m\u001b[1;33m=\u001b[0m\u001b[0mpdb\u001b[0m\u001b[1;33m+\u001b[0m\u001b[0mchain\u001b[0m\u001b[1;33m)\u001b[0m\u001b[1;33m\u001b[0m\u001b[1;33m\u001b[0m\u001b[0m\n",
      "\u001b[1;31mNameError\u001b[0m: name 'environ' is not defined"
     ]
    }
   ],
   "source": [
    "env = environ()\n",
    "aln = alignment(env)\n",
    "for(pdb, chain) in (('original2', 'A'),('delta2','A')):\n",
    "    m = model(env, file=pdb, model_segment=('FIRST:'+chain, 'LAST:'+chain))\n",
    "    aln.append_model(m, atom_files=pdb, align_codes=pdb+chain)\n",
    "aln.malign()\n",
    "aln.malign3d()\n",
    "aln.compare_structures()\n",
    "#Modeller was not being coaperative"
   ]
  },
  {
   "cell_type": "code",
   "execution_count": null,
   "id": "b56d45d6",
   "metadata": {},
   "outputs": [],
   "source": [
    "#I know how to run the code and I got an error saying that the environ is not defined. This is due to technical difficulties\n",
    "#with Modeller and the license. I obtained a license key but it was not updating, even though I changed it manually from \"XXXX\"\n",
    "#to the code I was given. Due to this error, no 3D structure was produced. "
   ]
  },
  {
   "cell_type": "markdown",
   "id": "ecceb933",
   "metadata": {},
   "source": [
    "# Result Analysis \n",
    "\n",
    "The data that was yielded from the codes was unfortunatly incomplete. I would have liked to comment on the results of the 3D protein to dive deeper into what the physical differences are and how they contrubuted to each S-protein that belongs to the unique variants. I suspect that the S-protein belonging to the delta variant would look more effective in latching onto cells inorder for the virus to infect them easier. So I am expecting a sharper tip of some sorts and a more sturdy frame. These are all shots in the dark though, without having a genarted 3D image to confirm the comparisons. As for the heat map, it showed that there were slight but statistically significant differences in the sequences of the S-proteins. When comparing the variants to themselves, the original variant scored a 6834 and the Delta variant scored a 6809. Both of these numbers were higher than the allignmnt of the varients against eachother, which scored 6761. This was expected as a lower score indicates a more distant relation. An alignmnt score of 6761 was significant enough to be suspeciously different than the individual alignmnet score of each of the vraiants, but not vast enough to think that there was some sort of extensive evolution. This is further shown by the heat map and the color coding indicating the close simialrity between the varaiants. These evidence give truth to my hypothesis and prove it. The Spike protein sequences are different between the Delta and the Original SARS-CoV-2 variants. Meaning that   the increased danger and infection rates are attributed to how the virus binds to host cells due to the S-proteins being different. "
   ]
  }
 ],
 "metadata": {
  "kernelspec": {
   "display_name": "Python 3 (ipykernel)",
   "language": "python",
   "name": "python3"
  },
  "language_info": {
   "codemirror_mode": {
    "name": "ipython",
    "version": 3
   },
   "file_extension": ".py",
   "mimetype": "text/x-python",
   "name": "python",
   "nbconvert_exporter": "python",
   "pygments_lexer": "ipython3",
   "version": "3.9.7"
  }
 },
 "nbformat": 4,
 "nbformat_minor": 5
}
